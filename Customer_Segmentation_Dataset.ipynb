{
  "nbformat": 4,
  "nbformat_minor": 0,
  "metadata": {
    "colab": {
      "provenance": []
    },
    "kernelspec": {
      "name": "python3",
      "display_name": "Python 3"
    },
    "language_info": {
      "name": "python"
    }
  },
  "cells": [
    {
      "cell_type": "markdown",
      "source": [
        "\n",
        "# library\n",
        "\n"
      ],
      "metadata": {
        "id": "J7W6Y5VPC2hG"
      }
    },
    {
      "cell_type": "code",
      "execution_count": null,
      "metadata": {
        "id": "KpemooRpCjVN"
      },
      "outputs": [],
      "source": [
        "import numpy as np\n",
        "import pandas as pd\n",
        "import matplotlib.pyplot as plt\n",
        "import seaborn as sns\n",
        "from sklearn.preprocessing import StandardScaler\n",
        "from sklearn.cluster import KMeans\n",
        "from sklearn.decomposition import PCA\n",
        "from sklearn.cluster import DBSCAN\n",
        "from scipy.cluster.hierarchy import dendrogram, linkage\n",
        "from sklearn.cluster import AgglomerativeClustering\n",
        "from sklearn.mixture import GaussianMixture\n",
        "from tensorflow.keras.models import Model\n",
        "from tensorflow.keras.layers import Input, Dense\n",
        "from tensorflow.keras.optimizers import Adam\n",
        "from sklearn.manifold import TSNE\n",
        "from scipy.cluster.hierarchy import dendrogram, linkage\n",
        "from sklearn.cluster import AgglomerativeClustering"
      ]
    },
    {
      "cell_type": "markdown",
      "source": [
        "# import library"
      ],
      "metadata": {
        "id": "QxmMU1ffC_kn"
      }
    },
    {
      "cell_type": "code",
      "source": [
        "customer = pd.read_csv('/content/Mall_Customers.csv')"
      ],
      "metadata": {
        "id": "55x3wGW7C_AA"
      },
      "execution_count": null,
      "outputs": []
    },
    {
      "cell_type": "code",
      "source": [
        "customer.head()"
      ],
      "metadata": {
        "id": "afI3Fv7WC9n8"
      },
      "execution_count": null,
      "outputs": []
    },
    {
      "cell_type": "code",
      "source": [
        "customer.tail()"
      ],
      "metadata": {
        "id": "Tu_uoZNqDN_r"
      },
      "execution_count": null,
      "outputs": []
    },
    {
      "cell_type": "code",
      "source": [
        "customer.shape"
      ],
      "metadata": {
        "id": "c_kGJkLODTfk"
      },
      "execution_count": null,
      "outputs": []
    },
    {
      "cell_type": "code",
      "source": [
        "customer.info()"
      ],
      "metadata": {
        "id": "ADjKDGOyDWVe"
      },
      "execution_count": null,
      "outputs": []
    },
    {
      "cell_type": "markdown",
      "source": [
        "# statistics Summary"
      ],
      "metadata": {
        "id": "LZxT5LM8EEtu"
      }
    },
    {
      "cell_type": "code",
      "source": [
        "customer.describe()"
      ],
      "metadata": {
        "id": "KuJyurA6DZpq"
      },
      "execution_count": null,
      "outputs": []
    },
    {
      "cell_type": "code",
      "source": [
        "customer.isnull().sum()"
      ],
      "metadata": {
        "id": "w2036NXRDdOA"
      },
      "execution_count": null,
      "outputs": []
    },
    {
      "cell_type": "code",
      "source": [
        "customer.duplicated().sum()"
      ],
      "metadata": {
        "id": "0PDDBcX0Dhma"
      },
      "execution_count": null,
      "outputs": []
    },
    {
      "cell_type": "code",
      "source": [
        "customer['Gender'].value_counts()"
      ],
      "metadata": {
        "id": "VZbvBGf3Dn2H"
      },
      "execution_count": null,
      "outputs": []
    },
    {
      "cell_type": "markdown",
      "source": [
        "# Visualize"
      ],
      "metadata": {
        "id": "5ND05UNFELZH"
      }
    },
    {
      "cell_type": "code",
      "source": [
        "customer.head()"
      ],
      "metadata": {
        "id": "FyzyVmxhDtzc"
      },
      "execution_count": null,
      "outputs": []
    },
    {
      "source": [
        "from matplotlib import pyplot as plt\n",
        "customer.plot(kind='scatter', x='Annual Income (k$)', y='Spending Score (1-100)', s=32, alpha=.8)\n",
        "plt.gca().spines[['top', 'right',]].set_visible(False)"
      ],
      "cell_type": "code",
      "execution_count": null,
      "outputs": [],
      "metadata": {
        "id": "antuVIP7E-7n"
      }
    },
    {
      "cell_type": "code",
      "source": [
        "sns.pairplot(customer.drop('CustomerID', axis=1), hue='Gender', diag_kind='kde')\n",
        "plt.show()"
      ],
      "metadata": {
        "id": "qle2r7dOEt2Y"
      },
      "execution_count": null,
      "outputs": []
    },
    {
      "source": [
        "from matplotlib import pyplot as plt\n",
        "import seaborn as sns\n",
        "def _plot_series(series, series_name, series_index=0):\n",
        "  palette = list(sns.palettes.mpl_palette('Dark2'))\n",
        "  xs = series['Annual Income (k$)']\n",
        "  ys = series['Age']\n",
        "\n",
        "  plt.plot(xs, ys, label=series_name, color=palette[series_index % len(palette)])\n",
        "\n",
        "fig, ax = plt.subplots(figsize=(10, 5.2), layout='constrained')\n",
        "df_sorted = customer.sort_values('Annual Income (k$)', ascending=True)\n",
        "for i, (series_name, series) in enumerate(df_sorted.groupby('Gender')):\n",
        "  _plot_series(series, series_name, i)\n",
        "  fig.legend(title='Gender', bbox_to_anchor=(1, 1), loc='upper left')\n",
        "sns.despine(fig=fig, ax=ax)\n",
        "plt.xlabel('Annual Income (k$)')\n",
        "_ = plt.ylabel('Age')"
      ],
      "cell_type": "code",
      "execution_count": null,
      "outputs": [],
      "metadata": {
        "id": "7cNVY9AGEkkw"
      }
    },
    {
      "source": [
        "from matplotlib import pyplot as plt\n",
        "import seaborn as sns\n",
        "customer.groupby('Gender').size().plot(kind='barh', color=sns.palettes.mpl_palette('Dark2'))\n",
        "plt.gca().spines[['top', 'right',]].set_visible(False)"
      ],
      "cell_type": "code",
      "execution_count": null,
      "outputs": [],
      "metadata": {
        "id": "12H8Ttb5EbSR"
      }
    },
    {
      "cell_type": "code",
      "source": [
        "\n",
        "customer['genderr'] = customer['Gender'].map({'Male': 0, 'Female': 1})"
      ],
      "metadata": {
        "id": "TvcvG205FqFd"
      },
      "execution_count": null,
      "outputs": []
    },
    {
      "cell_type": "code",
      "source": [
        "customer['genderr'].value_counts()"
      ],
      "metadata": {
        "id": "jp5D7eOwGCAM"
      },
      "execution_count": null,
      "outputs": []
    },
    {
      "cell_type": "markdown",
      "source": [
        "# Feature Selection"
      ],
      "metadata": {
        "id": "x9VYXFd6FEGF"
      }
    },
    {
      "cell_type": "code",
      "source": [
        "X= customer[['Annual Income (k$)', 'Spending Score (1-100)']]\n",
        "scaler = StandardScaler()\n",
        "X_scaled = scaler.fit_transform(X)\n"
      ],
      "metadata": {
        "id": "RX29IN5vEVA_"
      },
      "execution_count": null,
      "outputs": []
    },
    {
      "cell_type": "markdown",
      "source": [
        "# Clustering Algorithms"
      ],
      "metadata": {
        "id": "EuqlgUtKGo2g"
      }
    },
    {
      "cell_type": "markdown",
      "source": [
        "K-Means Clustering"
      ],
      "metadata": {
        "id": "m1bT5k5xGtzU"
      }
    },
    {
      "cell_type": "code",
      "source": [
        "wcss = []\n",
        "for i in range(1, 11):\n",
        "    kmeans = KMeans(n_clusters=i, init='k-means++', random_state=42)\n",
        "    kmeans.fit(X_scaled)\n",
        "    wcss.append(kmeans.inertia_)\n",
        "\n",
        "# Plot the Elbow Method\n",
        "plt.plot(range(1, 11), wcss, marker='o')\n",
        "plt.title('Elbow Method')\n",
        "plt.xlabel('Number of Clusters')\n",
        "plt.ylabel('WCSS')\n",
        "plt.show()"
      ],
      "metadata": {
        "id": "PLRG3ysJERtr"
      },
      "execution_count": null,
      "outputs": []
    },
    {
      "cell_type": "markdown",
      "source": [
        "The optimal number of clusters in your image appears to be around 3 or 4. This is based on the \"Elbow Method,\" where the Within-Cluster Sum of Squares (WCSS) decreases sharply up to around 3 or 4 clusters and then levels off, forming an \"elbow\" shape"
      ],
      "metadata": {
        "id": "TnYGh3g7H0qM"
      }
    },
    {
      "cell_type": "code",
      "source": [
        "kmeans = KMeans(n_clusters=3, init='k-means++', random_state=42)\n",
        "customer['Cluster'] = kmeans.fit_predict(X_scaled)"
      ],
      "metadata": {
        "id": "YNmm4PKsFNT1"
      },
      "execution_count": null,
      "outputs": []
    },
    {
      "cell_type": "code",
      "source": [
        "plt.scatter(X_scaled[:, 0], X_scaled[:, 1], c=customer['Cluster'], cmap='viridis', s=50)\n",
        "plt.title('Customer Segments')\n",
        "plt.xlabel('Annual Income (scaled)')\n",
        "plt.ylabel('Spending Score (scaled)')\n",
        "plt.show()"
      ],
      "metadata": {
        "id": "ljzFMjmFHfJ-"
      },
      "execution_count": null,
      "outputs": []
    },
    {
      "cell_type": "code",
      "source": [
        "kmeans = KMeans(n_clusters=4, init='k-means++', random_state=42)\n",
        "customer['Cluster'] = kmeans.fit_predict(X_scaled)"
      ],
      "metadata": {
        "id": "bUwhfmQHH3ss"
      },
      "execution_count": null,
      "outputs": []
    },
    {
      "cell_type": "code",
      "source": [
        "plt.scatter(X_scaled[:, 0], X_scaled[:, 1], c=customer['Cluster'], cmap='viridis', s=50)\n",
        "plt.title('Customer Segments')\n",
        "plt.xlabel('Annual Income (scaled)')\n",
        "plt.ylabel('Spending Score (scaled)')\n",
        "plt.show()"
      ],
      "metadata": {
        "id": "FxnlPXMbHkuS"
      },
      "execution_count": null,
      "outputs": []
    },
    {
      "cell_type": "markdown",
      "source": [
        "Dimensionality Reduction (PCA)"
      ],
      "metadata": {
        "id": "QuGqSva3IHUI"
      }
    },
    {
      "cell_type": "code",
      "source": [
        "pca = PCA(n_components=2)\n",
        "X_pca = pca.fit_transform(X_scaled)\n",
        "\n",
        "plt.scatter(X_pca[:, 0], X_pca[:, 1], c=customer['Cluster'], cmap='viridis', s=50)\n",
        "plt.title('PCA of Customer Data')\n",
        "plt.xlabel('PCA Component 1')\n",
        "plt.ylabel('PCA Component 2')\n",
        "plt.show()"
      ],
      "metadata": {
        "id": "ljpCf_9HH7lK"
      },
      "execution_count": null,
      "outputs": []
    },
    {
      "cell_type": "markdown",
      "source": [
        "Group by clusters and analyze\n"
      ],
      "metadata": {
        "id": "C5oRoWIsIeBl"
      }
    },
    {
      "cell_type": "code",
      "source": [
        "cluster_summary = customer.groupby('Cluster').agg(\n",
        "    {\n",
        "        'Annual Income (k$)': 'mean',\n",
        "        'Spending Score (1-100)': 'mean',\n",
        "        'Age': 'mean',\n",
        "        'genderr': 'mean'  # Assuming 'genderr' is numeric\n",
        "    }\n",
        ")\n",
        "print(cluster_summary)"
      ],
      "metadata": {
        "id": "tXnwinyMIT2m"
      },
      "execution_count": null,
      "outputs": []
    },
    {
      "cell_type": "code",
      "source": [
        "cluster_summary.plot(kind='bar', figsize=(10, 6))\n",
        "plt.title('Cluster Summary')\n",
        "plt.xlabel('Cluster')\n",
        "plt.ylabel('Average Values')\n",
        "plt.xticks(rotation=0)\n",
        "plt.legend(title='Features', bbox_to_anchor=(1, 1), loc='upper left')\n",
        "plt.tight_layout()\n",
        "plt.show()"
      ],
      "metadata": {
        "id": "66iBaOMLIhKR"
      },
      "execution_count": null,
      "outputs": []
    },
    {
      "cell_type": "markdown",
      "source": [
        "DBSCAN (Density-Based Spatial Clustering of Applications with Noise)"
      ],
      "metadata": {
        "id": "FpYwlpJQKekk"
      }
    },
    {
      "cell_type": "code",
      "source": [
        "dbscan = DBSCAN(eps=0.5, min_samples=4)\n",
        "customer['DBSCAN_Cluster'] = dbscan.fit_predict(X_scaled)\n",
        "\n",
        "plt.scatter(X_scaled[:, 0], X_scaled[:, 1], c=customer['DBSCAN_Cluster'], cmap='viridis', s=50)\n",
        "plt.title('DBSCAN Clustering')\n",
        "plt.xlabel('Annual Income (scaled)')\n",
        "plt.ylabel('Spending Score (scaled)')\n",
        "plt.show()"
      ],
      "metadata": {
        "id": "v8HZp1D-I3dO"
      },
      "execution_count": null,
      "outputs": []
    },
    {
      "cell_type": "code",
      "source": [
        "outliers = customer[customer['DBSCAN_Cluster'] == -1]\n",
        "print(\"Outliers detected by DBSCAN:\")\n",
        "print(outliers)"
      ],
      "metadata": {
        "id": "Ff18r4PRKzey"
      },
      "execution_count": null,
      "outputs": []
    },
    {
      "cell_type": "markdown",
      "source": [
        "Hierarchical Clustering with Dendrograms"
      ],
      "metadata": {
        "id": "QLTSUlkpLIz4"
      }
    },
    {
      "cell_type": "code",
      "source": [
        "linked = linkage(X_scaled, method='ward')\n",
        "plt.figure(figsize=(10, 7))\n",
        "dendrogram(linked, orientation='top', distance_sort='descending', show_leaf_counts=True)\n",
        "plt.title('Dendrogram')\n",
        "plt.show()"
      ],
      "metadata": {
        "id": "ZMUxbgXDLGdU"
      },
      "execution_count": null,
      "outputs": []
    },
    {
      "cell_type": "code",
      "source": [
        "agg_cluster = AgglomerativeClustering(n_clusters=4, linkage='ward')\n",
        "customer['Hierarchical_Cluster'] = agg_cluster.fit_predict(X_scaled)\n",
        "\n",
        "plt.scatter(X_scaled[:, 0], X_scaled[:, 1], c=customer['Hierarchical_Cluster'], cmap='viridis', s=50)\n",
        "plt.title('Hierarchical Clustering')\n",
        "plt.xlabel('Annual Income (scaled)')\n",
        "plt.ylabel('Spending Score (scaled)')\n",
        "plt.show()"
      ],
      "metadata": {
        "id": "jsjqxURVLTaq"
      },
      "execution_count": null,
      "outputs": []
    },
    {
      "cell_type": "markdown",
      "source": [
        "Gaussian Mixture Models (GMM)"
      ],
      "metadata": {
        "id": "7FhPAd4GMgwP"
      }
    },
    {
      "cell_type": "code",
      "source": [
        "gmm = GaussianMixture(n_components=4, random_state=42)\n",
        "customer['GMM_Cluster'] = gmm.fit_predict(X_scaled)\n",
        "\n",
        "plt.scatter(X_scaled[:, 0], X_scaled[:, 1], c=customer['GMM_Cluster'], cmap='viridis', s=50)\n",
        "plt.title('Gaussian Mixture Model Clustering')\n",
        "plt.xlabel('Annual Income (scaled)')\n",
        "plt.ylabel('Spending Score (scaled)')\n",
        "plt.show()"
      ],
      "metadata": {
        "id": "j9fizWn-Lbkb"
      },
      "execution_count": null,
      "outputs": []
    },
    {
      "cell_type": "code",
      "source": [
        "probabilities = gmm.predict_proba(X_scaled)\n",
        "print(\"Cluster Probabilities:\")\n",
        "print(probabilities[:5])"
      ],
      "metadata": {
        "id": "wUGfE1gCy1kS"
      },
      "execution_count": null,
      "outputs": []
    },
    {
      "cell_type": "markdown",
      "source": [
        "t-SNE for Dimensionality Reduction"
      ],
      "metadata": {
        "id": "W9Z7sLjSMwmn"
      }
    },
    {
      "cell_type": "code",
      "source": [
        "\n",
        "tsne = TSNE(n_components=2, random_state=42)\n",
        "X_tsne = tsne.fit_transform(X_scaled)\n",
        "\n",
        "plt.scatter(X_tsne[:, 0], X_tsne[:, 1], c=customer['Cluster'], cmap='viridis', s=50)\n",
        "plt.title('t-SNE Visualization')\n",
        "plt.xlabel('t-SNE Component 1')\n",
        "plt.ylabel('t-SNE Component 2')\n",
        "plt.show()"
      ],
      "metadata": {
        "id": "zRr0aoEqMs0k"
      },
      "execution_count": null,
      "outputs": []
    },
    {
      "cell_type": "markdown",
      "source": [
        "Autoencoders for Feature Extraction"
      ],
      "metadata": {
        "id": "4zpzNlkFNFQY"
      }
    },
    {
      "cell_type": "code",
      "source": [
        "input_dim = X_scaled.shape[1]\n",
        "encoding_dim = 2\n",
        "\n",
        "input_layer = Input(shape=(input_dim,))\n",
        "encoder = Dense(encoding_dim, activation=\"relu\")(input_layer)\n",
        "decoder = Dense(input_dim, activation=\"sigmoid\")(encoder)\n",
        "\n",
        "autoencoder = Model(inputs=input_layer, outputs=decoder)\n",
        "encoder_model = Model(inputs=input_layer, outputs=encoder)\n",
        "\n",
        "autoencoder.compile(optimizer=Adam(learning_rate=0.001), loss='mse')\n",
        "autoencoder.fit(X_scaled, X_scaled, epochs=50, batch_size=16, shuffle=True, verbose=0)\n",
        "\n",
        "# Extract encoded features\n",
        "X_encoded = encoder_model.predict(X_scaled)\n",
        "\n",
        "plt.scatter(X_encoded[:, 0], X_encoded[:, 1], c=customer['Cluster'], cmap='viridis', s=50)\n",
        "plt.title('Autoencoder Feature Extraction')\n",
        "plt.xlabel('Encoded Feature 1')\n",
        "plt.ylabel('Encoded Feature 2')\n",
        "plt.show()"
      ],
      "metadata": {
        "id": "Dxup7xlsM2qh"
      },
      "execution_count": null,
      "outputs": []
    },
    {
      "cell_type": "code",
      "source": [],
      "metadata": {
        "id": "HqX_XiPVNp-r"
      },
      "execution_count": null,
      "outputs": []
    }
  ]
}